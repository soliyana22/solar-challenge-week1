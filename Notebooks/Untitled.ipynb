{
 "cells": [
  {
   "cell_type": "code",
   "execution_count": null,
   "id": "a887ac62-27fc-46ef-ae45-89512747b984",
   "metadata": {},
   "outputs": [],
   "source": [
    "import panda as pd\n",
    "\n",
    "# Load the Benin data\n",
    "benin_df = pd.read_csv('../data/sierraleone-bumbuna.csv')\n",
    "\n",
    "# Display basic info\n",
    "benin_df.info()\n",
    "\n",
    "# Show the first 5 rows\n",
    "benin_df.head()"
   ]
  },
  {
   "cell_type": "code",
   "execution_count": null,
   "id": "7a675759-0b3d-4660-b120-498396726e57",
   "metadata": {},
   "outputs": [],
   "source": []
  }
 ],
 "metadata": {
  "kernelspec": {
   "display_name": "Python 3 (ipykernel)",
   "language": "python",
   "name": "python3"
  },
  "language_info": {
   "codemirror_mode": {
    "name": "ipython",
    "version": 3
   },
   "file_extension": ".py",
   "mimetype": "text/x-python",
   "name": "python",
   "nbconvert_exporter": "python",
   "pygments_lexer": "ipython3",
   "version": "3.11.9"
  }
 },
 "nbformat": 4,
 "nbformat_minor": 5
}
